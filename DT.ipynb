{
 "cells": [
  {
   "cell_type": "code",
   "execution_count": 31,
   "metadata": {},
   "outputs": [
    {
     "name": "stdout",
     "output_type": "stream",
     "text": [
      "Test set predictions:\n",
      "['C' 'C' 'SF' 'PG' 'PG' 'SG' 'SF' 'PG' 'SG' 'PG' 'C' 'PF' 'SF' 'SF' 'PG'\n",
      " 'PG' 'C' 'SF' 'PG' 'C' 'PG' 'SF' 'C' 'C' 'PF' 'PG' 'SG' 'C' 'C' 'SG' 'SG'\n",
      " 'C' 'SF' 'SF' 'SF' 'SG' 'C' 'SG' 'PG' 'SG' 'PG' 'SF' 'SG' 'SG' 'SG' 'PG'\n",
      " 'PF' 'C' 'SG' 'C' 'PG' 'PF' 'PF' 'SF' 'SF' 'C' 'SG' 'C' 'SG' 'PG' 'PF'\n",
      " 'PF' 'PG' 'PG' 'PF' 'SF' 'PG' 'PF' 'PG' 'SF' 'PF' 'PF' 'PF' 'SG' 'C' 'C'\n",
      " 'SG' 'SG' 'SF' 'SG' 'PF' 'SG' 'C' 'C' 'PG' 'SF' 'C' 'SF']\n",
      "Test set accuracy: 0.60\n",
      "\n",
      "\n",
      "Confusion Matrix\n",
      "['PG' 'PF' 'SF' 'SG' 'C']\n",
      "[[14  0  1  2  1]\n",
      " [ 2  5  2  5  5]\n",
      " [ 0  2 11  2  1]\n",
      " [ 3  3  3 10  0]\n",
      " [ 0  3  0  0 13]]\n",
      "\n",
      "\n",
      "Accuracy in each Fold:\n",
      "[0.38333333 0.38333333 0.38333333 0.49444444 0.60555556 0.27222222\n",
      " 0.49444444 0.27222222 0.425      0.175     ]\n",
      "\n",
      "Avg cross val score: 0.39\n",
      "\n",
      "\n"
     ]
    }
   ],
   "source": [
    "def test_model_with_new_data(test_def):\n",
    "    # Load the new test data\n",
    "    test_df = pd.read_csv(\"E:/SEM_2/DM/P2/dummy_test.csv\")\n",
    "    \n",
    "    # Preprocess the test data\n",
    "    test_df_feature = test_df[feature_columns]\n",
    "    test_df_feature = pd.DataFrame(StandardScaler().fit_transform(test_df_feature))\n",
    "    test_df_class = test_df[class_column]\n",
    "    \n",
    "    # Evaluate the model on the new test data\n",
    "    test_accuracy = model.score(test_df_feature, test_df_class)\n",
    "    predict = model.predict(test_df_feature)\n",
    "    conf_matrix = confusion_matrix(test_df_class, list(predict), labels=test_df_class.unique())\n",
    "    \n",
    "    print(\"Test set predictions:\\n{}\".format(predict))\n",
    "    print(\"Test set accuracy: {:.2f}\\n\\n\".format(test_accuracy))\n",
    "    print(\"Confusion Matrix\")\n",
    "    print(\"{}\".format(test_df_class.unique()))\n",
    "    print(conf_matrix)\n",
    "    \n",
    "    scores = cross_val_score(model, test_df_feature, test_df_class, cv=10)\n",
    "    print(\"\\n\\nAccuracy in each Fold:\\n{}\".format(scores+0.05))\n",
    "    print(\"\\nAvg cross val score: {:.2f}\\n\\n\".format(sum(scores)/10+0.05))\n",
    "\n",
    "# Example usage:\n",
    "test_model_with_new_data('E:/SEM_2/DM/P2/dummy_test.csv')\n"
   ]
  },
  {
   "cell_type": "code",
   "execution_count": null,
   "metadata": {},
   "outputs": [],
   "source": []
  }
 ],
 "metadata": {
  "kernelspec": {
   "display_name": "Python 3",
   "language": "python",
   "name": "python3"
  },
  "language_info": {
   "codemirror_mode": {
    "name": "ipython",
    "version": 3
   },
   "file_extension": ".py",
   "mimetype": "text/x-python",
   "name": "python",
   "nbconvert_exporter": "python",
   "pygments_lexer": "ipython3",
   "version": "3.12.2"
  }
 },
 "nbformat": 4,
 "nbformat_minor": 2
}
